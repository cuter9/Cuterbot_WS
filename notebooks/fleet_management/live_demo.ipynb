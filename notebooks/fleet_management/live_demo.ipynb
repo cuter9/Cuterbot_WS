{
 "cells": [
  {
   "cell_type": "markdown",
   "id": "9efeacbd-ea0c-4d9a-8fe3-5a96f4316613",
   "metadata": {
    "tags": []
   },
   "source": [
    "# Fleet Management - Live Demo\n",
    "\n",
    "In this notebook we'll show how you can follow an object with JetBot!  We'll use a pre-trained neural network\n",
    "that was trained on the [COCO dataset](http://cocodataset.org) to detect 90 different common objects.  These include\n",
    "\n",
    "* Person (index 0)\n",
    "* Cup (index 47)\n",
    "\n",
    "and many others (you can check [this file](https://github.com/tensorflow/models/blob/master/research/object_detection/data/mscoco_complete_label_map.pbtxt) for a full list of class indices).  The model is sourced from the [TensorFlow object detection API](https://github.com/tensorflow/models/tree/master/research/object_detection)\n",
    "which provides utilities for training object detectors for custom tasks also!  Once the model is trained, we optimize it using NVIDIA TensorRT on the Jetson Nano.\n",
    "\n",
    "This makes the network very fast, capable of real-time execution on Jetson Nano!  We won't run through all of the training and optimization steps in this notebook though.\n",
    "\n",
    "Anyways, let's get started.  First, we'll want to import the ``Object_Follower`` class which takes our pre-trained SSD engine or yolo engine."
   ]
  },
  {
   "cell_type": "code",
   "execution_count": null,
   "id": "5f53c9fa-0817-4c33-a2b4-91b10dd1c0b6",
   "metadata": {},
   "outputs": [],
   "source": [
    "from IPython.display import display\n",
    "import ipywidgets.widgets as widgets\n",
    "from ipywidgets.widgets import Box, HBox, VBox, Layout, Label, Output\n",
    "from IPython.display import clear_output\n",
    "import traitlets\n"
   ]
  },
  {
   "cell_type": "code",
   "execution_count": null,
   "id": "680885bcd60fead1",
   "metadata": {},
   "outputs": [],
   "source": [
    "# from main_scripts import Object_Follower\n",
    "from jetbot.utils import model_selection\n",
    "from jetbot import Fleeter"
   ]
  },
  {
   "cell_type": "code",
   "execution_count": null,
   "id": "db409a49-f088-4214-a5fb-6feee7e8ebbd",
   "metadata": {},
   "outputs": [],
   "source": [
    "\n",
    "FL = Fleeter(init_sensor_fm=True)\n",
    "FL.conf_th = 0.5\n",
    "\n",
    "od_trt_ms = model_selection(core_library=\"TensorRT\")\n",
    "od_trt_ms.model_function = \"object detection\"\n",
    "\n",
    "od_model_type_widget = widgets.Select(options=od_trt_ms.model_type_list, value=od_trt_ms.model_type_list[0],\n",
    "                                      description='Object Detection Model Type:')\n",
    "traitlets.dlink((od_trt_ms, 'model_type_list'), (od_model_type_widget, 'options'))\n",
    "traitlets.dlink((od_model_type_widget, 'value'), (od_trt_ms, 'model_type'))\n",
    "traitlets.dlink((od_trt_ms, 'model_type'), (FL, 'type_follower_model'))\n",
    "\n",
    "od_model_path_widget = widgets.Select(options=od_trt_ms.model_path_list, description='Model Path:',\n",
    "                                      layout=Layout(width='60%'))\n",
    "traitlets.dlink((od_trt_ms, 'model_path_list'), (od_model_path_widget, 'options'))\n",
    "traitlets.dlink((od_model_path_widget, 'value'), (od_trt_ms, 'model_path'))\n",
    "traitlets.dlink((od_trt_ms, 'model_path'), (FL, 'follower_model'))\n"
   ]
  },
  {
   "cell_type": "code",
   "execution_count": null,
   "id": "75d8ffd3064ecaea",
   "metadata": {},
   "outputs": [],
   "source": [
    "rd_trt_ms = model_selection(core_library=\"Pytorch\")\n",
    "rd_trt_ms.model_function = \"classifier\"\n",
    "\n",
    "rd_model_type_widget = widgets.Select(options=rd_trt_ms.model_type_list, value=rd_trt_ms.model_type_list[0],\n",
    "                                      description='Classifier Model Type:')\n",
    "traitlets.dlink((rd_trt_ms, 'model_type_list'), (rd_model_type_widget, 'options'))\n",
    "traitlets.dlink((rd_model_type_widget, 'value'), (rd_trt_ms, 'model_type'))\n",
    "traitlets.dlink((rd_trt_ms, 'model_type'), (FL, 'type_cruiser_model'))\n",
    "\n",
    "rd_model_path_widget = widgets.Select(options=rd_trt_ms.model_path_list, description='Model Path:',\n",
    "                                      layout=Layout(width='60%'))\n",
    "traitlets.dlink((rd_trt_ms, 'model_path_list'), (rd_model_path_widget, 'options'))\n",
    "traitlets.dlink((rd_model_path_widget, 'value'), (rd_trt_ms, 'model_path'))\n",
    "traitlets.dlink((rd_trt_ms, 'model_path'), (FL, 'cruiser_model'))\n",
    "traitlets.dlink((rd_trt_ms, 'preprocess_path'), (FL, 'cruiser_model_preprocess'))\n"
   ]
  },
  {
   "cell_type": "markdown",
   "id": "10169b16-aece-4a23-b00d-d84cdb14df3d",
   "metadata": {},
   "source": [
    "The followings is to construct the control widgets for fleet control."
   ]
  },
  {
   "cell_type": "code",
   "execution_count": null,
   "id": "5fa94be7-f298-48b8-9298-d0fa3fecab3f",
   "metadata": {},
   "outputs": [],
   "source": [
    "out = widgets.Output()\n",
    "\n",
    "# image_widget = widgets.Image(format='jpeg', width=OF.img_width, height=OF.img_height)\n",
    "image_widget = widgets.Image(format='jpeg', width=300, height=300, layout = Layout(align_self='center'))\n",
    "\n",
    "# display(image_widget)\n",
    "traitlets.dlink((FL, 'cap_image'), (image_widget, 'value'))\n",
    "\n",
    "# display buttons\n",
    "button_layout = widgets.Layout(width='100px', height='40px', align_self='center')\n",
    "stop_button = widgets.Button(description='Stop', button_style='danger', tooltip='Click to stop running', icon='fa-stop', layout=button_layout)\n",
    "start_button = widgets.Button(description='Start', tooltip='Click to start running', layout=button_layout)\n",
    "button_box = widgets.HBox([start_button, stop_button], layout=widgets.Layout(justify_content='space-around', width='30%'))\n"
   ]
  },
  {
   "cell_type": "code",
   "execution_count": null,
   "id": "b6f72bd0-b6a1-411b-b0a9-d6553586c991",
   "metadata": {},
   "outputs": [],
   "source": [
    "# infos and params of fleeting\n",
    "blocked_widget = widgets.FloatSlider(min=0.0, max=1.0, value=0.0, description='blocked')\n",
    "object_view_widget = widgets.FloatSlider(min=0.0, max=1.0, value=0.0, description='object view')\n",
    "label_widget = widgets.IntText(value=1, description='tracked label')  # target to be tracked\n",
    "label_text_widget = widgets.Text(value='', description='label name')  # target name to be tracked\n",
    "speed_widget = widgets.FloatSlider(min=0.0, max=1.0, description='speed', readout_format='.3f')\n",
    "speed_gain_widget = widgets.FloatSlider(value=0.01, min=0.001, max=0.025, step=0.001, description='speed_gain', readout_format='.3f')\n",
    "speed_dev_widget = widgets.FloatSlider(value=0.4, min=0.01, max=1, step=0.01, description='speed_dev', readout_format='.3f')\n",
    "turn_gain_widget = widgets.FloatSlider(value=0.25, min=0.05, max=0.5, step=0.001, description='turn gain', readout_format='.3f')\n",
    "steering_bias_widget = widgets.FloatSlider(value=0.02, min=-0.1, max=0.1, step=0.001, description='steering bias', readout_format='.3f')\n",
    "view_target_widget = widgets.FloatSlider(value=0.2, min=0.001, max=1.0, step=0.001, description='view target', readout_format='.3f')\n",
    "\n",
    "traitlets.dlink((FL, 'blocked'), (blocked_widget, 'value'))\n",
    "traitlets.dlink((FL, 'mean_view'), (object_view_widget, 'value'))\n",
    "traitlets.dlink((label_widget, 'value'), (FL, 'label'))\n",
    "traitlets.dlink((FL, 'label_text'), (label_text_widget, 'value'))\n",
    "traitlets.dlink((turn_gain_widget, 'value'), (FL, 'turn_gain_fm'))\n",
    "traitlets.dlink((speed_gain_widget, 'value'), (FL, 'speed_gain_fm'))\n",
    "traitlets.dlink((speed_dev_widget, 'value'), (FL, 'speed_dev_fm'))\n",
    "traitlets.dlink((FL, 'speed_fm'), (speed_widget, 'value'))\n",
    "traitlets.dlink((steering_bias_widget, 'value'), (FL, 'steering_bias_fm'))\n",
    "traitlets.dlink((view_target_widget, 'value'), (FL, 'target_view'))"
   ]
  },
  {
   "cell_type": "code",
   "execution_count": null,
   "id": "a67ec8b9-b17b-43d0-86d5-abc06c5977e6",
   "metadata": {},
   "outputs": [],
   "source": [
    "# control params of road cruising\n",
    "speed_gain_slider = widgets.FloatSlider(min=0, max=1, step=0.001, value=0.3, description='speed gain', readout_format='.3f')\n",
    "steering_gain_slider = widgets.FloatSlider(min=0, max=0.5, step=0.001, value=0.2, description='steering gain', readout_format='.3f')\n",
    "steering_dgain_slider = widgets.FloatSlider(min=0, max=2.0, step=0.001, value=1.2, description='steering kd', readout_format='.3f')\n",
    "steering_bias_slider = widgets.FloatSlider(min=-0.1, max=0.1, step=0.001, value=-0.01, description='steering bias', readout_format='.3f')\n",
    "\n",
    "traitlets.dlink((speed_gain_slider, 'value'), (FL, 'speed_gain_rc'))\n",
    "traitlets.dlink((steering_gain_slider, 'value'), (FL, 'steering_gain_rc'))\n",
    "traitlets.dlink((steering_dgain_slider, 'value'), (FL, 'steering_dgain_rc'))\n",
    "traitlets.dlink((steering_bias_slider, 'value'), (FL, 'steering_bias_rc'))\n",
    "\n",
    "# VBox_image = VBox([image_widget], layout=Layout(align_self='center'))\n",
    "VBox_control = VBox([speed_gain_slider, steering_gain_slider, steering_dgain_slider, steering_bias_slider], layout=Layout(align_self='center'))\n",
    "\n",
    "# stat information of road cruising\n",
    "x_slider = widgets.FloatSlider(min=-1.0, max=1.0, description='x')\n",
    "y_slider = widgets.FloatSlider(min=0, max=2.0, orientation='vertical', description='y')\n",
    "steering_slider = widgets.FloatSlider(min=-1.0, max=1.0, description='steering')\n",
    "speed_slider = widgets.FloatSlider(min=0.0, max=1.0, orientation='vertical', description='speed')\n",
    "\n",
    "traitlets.dlink((FL, 'x_slider'), (x_slider, 'value'))\n",
    "traitlets.dlink((FL, 'y_slider'), (y_slider, 'value'))\n",
    "traitlets.dlink((FL, 'steering_rc'), (steering_slider, 'value'))\n",
    "traitlets.dlink((FL, 'speed_rc'), (speed_slider, 'value'))\n",
    "\n",
    "Box_y_state = HBox([y_slider, speed_slider])\n",
    "Box_x_state = VBox([x_slider, steering_slider])\n",
    "Box_state = VBox([Box_y_state, Box_x_state])\n"
   ]
  },
  {
   "cell_type": "code",
   "execution_count": null,
   "id": "d598ddb8-6d22-4105-a59a-d36496c71c3e",
   "metadata": {},
   "outputs": [],
   "source": [
    "out = Output(layout={'border': '2px solid black'})\n",
    "\n",
    "@out.capture()\n",
    "def start(change):\n",
    "    FL.start_fm(change)\n",
    "    \n",
    "@out.capture()\n",
    "def stop(change):\n",
    "    FL.stop_fm(change)\n",
    "    %reset -f"
   ]
  },
  {
   "cell_type": "code",
   "execution_count": null,
   "id": "89e311f4-2762-4df0-8b4d-2f7f870c2a6e",
   "metadata": {},
   "outputs": [],
   "source": [
    "RC_box_layout = Layout(display='flex', flex_flow='column', align_items='stretch', border='solid 2px', width='60%')\n",
    "FL_box_layout = Layout(display='flex', flex_flow='column', align_items='stretch', border='solid 2px', width='60%')\n",
    "H_box_layout = Layout(display='flex', flex_flow='row', align_items='stretch')\n",
    "label_layout = Layout(display='flex', flex_flow='row', align_items='stretch', align_self='center')\n",
    "\n",
    "# fleet control widgets \n",
    "Fleet_Control_items = [HBox([Label(value='--- Fleet Control ---')], layout=Layout(align_self='center')),\n",
    "                       HBox([blocked_widget, object_view_widget], layout = H_box_layout),\n",
    "                       HBox([speed_widget, view_target_widget], layout = H_box_layout),\n",
    "                       HBox([speed_gain_widget, speed_dev_widget], layout = H_box_layout),\n",
    "                       HBox([turn_gain_widget, steering_bias_widget], layout = H_box_layout)]\n",
    "\n",
    "RC_control_items = [HBox([Label(value='--- Cruising Control ---')], layout=Layout(align_self='center')),\n",
    "                    HBox([Box_state, VBox_control], layout = H_box_layout)]\n",
    "\n",
    "image_items = [image_widget, VBox([label_text_widget, label_widget])]\n",
    "\n",
    "display(HBox([od_model_type_widget, od_model_path_widget], layout={'border': '2px solid black'}))\n",
    "display(HBox([rd_model_type_widget, rd_model_path_widget], layout={'border': '2px solid black'}))\n",
    "\n",
    "display(HBox([VBox(children = image_items, layout = Layout(align_self='center')),\n",
    "             Box(children = RC_control_items, layout = RC_box_layout)], layout = Layout(justify_content='space-between')),\n",
    "        HBox([button_box, Box(children = Fleet_Control_items, layout = FL_box_layout)], layout = Layout(align_items='stretch', justify_content='space-between')))\n",
    "\n",
    "start_button.on_click(start)\n",
    "stop_button.on_click(stop)\n",
    "out"
   ]
  },
  {
   "cell_type": "code",
   "execution_count": null,
   "id": "5a0a9af5-8f32-45ac-ad0f-db6911b65c7d",
   "metadata": {},
   "outputs": [],
   "source": []
  }
 ],
 "metadata": {
  "kernelspec": {
   "display_name": "Python 3",
   "language": "python",
   "name": "python3"
  },
  "language_info": {
   "codemirror_mode": {
    "name": "ipython",
    "version": 3
   },
   "file_extension": ".py",
   "mimetype": "text/x-python",
   "name": "python",
   "nbconvert_exporter": "python",
   "pygments_lexer": "ipython3",
   "version": "3.6.9"
  }
 },
 "nbformat": 4,
 "nbformat_minor": 5
}
